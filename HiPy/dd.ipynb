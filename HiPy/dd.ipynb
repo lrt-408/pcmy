{
 "cells": [
  {
   "cell_type": "code",
   "execution_count": 1,
   "metadata": {},
   "outputs": [
    {
     "name": "stdout",
     "output_type": "stream",
     "text": [
      "        *\n",
      "       ***\n",
      "      *****\n",
      "     *******\n",
      "    *********\n",
      "   ***********\n",
      "  *************\n",
      " ***************\n",
      "*****************\n",
      "        |\n"
     ]
    }
   ],
   "source": [
    "def print_christmas_tree(n):\n",
    "    # 打印圣诞树\n",
    "    for i in range(n):\n",
    "        print(\" \" * (n - i - 1) + \"*\" * (2 * i + 1))\n",
    "    \n",
    "    # 打印树干\n",
    "    print(\" \" * (n - 1) + \"|\")\n",
    "\n",
    "# 调用函数打印圣诞树\n",
    "n = 9  # 圣诞树的行数\n",
    "print_christmas_tree(n)"
   ]
  }
 ],
 "metadata": {
  "kernelspec": {
   "display_name": "base",
   "language": "python",
   "name": "python3"
  },
  "language_info": {
   "codemirror_mode": {
    "name": "ipython",
    "version": 3
   },
   "file_extension": ".py",
   "mimetype": "text/x-python",
   "name": "python",
   "nbconvert_exporter": "python",
   "pygments_lexer": "ipython3",
   "version": "3.9.7"
  }
 },
 "nbformat": 4,
 "nbformat_minor": 2
}
