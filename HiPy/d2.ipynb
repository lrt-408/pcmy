{
 "cells": [
  {
   "cell_type": "code",
   "execution_count": null,
   "metadata": {},
   "outputs": [],
   "source": [
    "#列表的定义\n",
    "name_list = ['lrt','ttt','python']\n",
    "print(name_list)\n",
    "print(type(name_list))\n",
    "\n",
    "my_list = ['lrt',666,True]\n",
    "print(my_list)\n",
    "print(type(my_list))\n",
    "#嵌套\n",
    "my_list1 = [[1,2,3],[4,5,6]]\n",
    "print(my_list1)\n",
    "print(type(my_list1))\n",
    "\n",
    "# 列表的下标索引\n",
    "#按照循序从左到右0-n\n",
    "print(name_list[0])\n",
    "print(my_list1[0][1])\n",
    "#反向 -1 -2……\n",
    "print(my_list[-1])\n",
    "print(my_list1[-1][-2])\n"
   ]
  },
  {
   "cell_type": "code",
   "execution_count": null,
   "metadata": {},
   "outputs": [],
   "source": [
    "#列表的操作\n",
    "'''\n",
    "方法和函数的功能一样，使用格式不同:\n",
    "函数:num = add(1,3)\n",
    "方法:student = Student() #class Student:\n",
    "    num = student.add(1,3)\n",
    "'''\n",
    "#查询某元素下标(index),ValueError\n",
    "print(my_list.index('lrt'))\n",
    "#修改特定位置的元素值(=)\n",
    "my_list[1] = 777\n",
    "print(f\"列表被修改咯{my_list}\")\n",
    "#插入元素(insert)\n",
    "my_list.insert(1,666)\n",
    "print(f\"列表插入后{my_list}\")\n",
    "#追加列表尾部(append)\n",
    "my_list.append('rrr')\n",
    "print(f\"列表追加后{my_list}\")\n",
    "#追加一批元素(extend)\n",
    "my_list.extend(my_list1)\n",
    "print(f\"列表追加后1{my_list}\")\n",
    "#元素的删除del pop\n",
    "del name_list[2]\n",
    "print(f\"列表删除元素后{name_list}\")\n",
    "element = name_list.pop(1)#可以得到返回值\n",
    "print(f\"pop方法移除元素后列表为{name_list},取出的元素是{element}\")\n",
    "#删除某元素在列表中的第一个匹配项 remove\n",
    "my_list.remove(777)\n",
    "print(f\"通过remove移除后的列表为{my_list}\")\n",
    "#清空列表clear\n",
    "my_list.clear()\n",
    "print(f\"清空咯{my_list}\")\n",
    "#统计某元素在列表中的数量count\n",
    "my_list2 = [1,1,1,1,2,1,2]\n",
    "count = my_list2.count(1)\n",
    "print(count)\n",
    "#统计列表中总共多少个元素 len\n",
    "count1 = len(my_list2)\n",
    "print(count1)\n"
   ]
  },
  {
   "cell_type": "code",
   "execution_count": null,
   "metadata": {},
   "outputs": [],
   "source": [
    "#列表的循环遍历\n",
    "def list_while():\n",
    "    index = 0\n",
    "    while index < len(my_list2):\n",
    "        my_list2[index] += 1\n",
    "        print(f\"列表的各个元素+1后：{my_list2[index]}\")\n",
    "        index +=1\n",
    "\n",
    "def list_for():\n",
    "    for element in my_list2 :\n",
    "        element += 1\n",
    "        print(f\"列表的元素+1后：{element}\")\n",
    "\n",
    "list_while()\n",
    "list_for()\n"
   ]
  },
  {
   "cell_type": "code",
   "execution_count": null,
   "metadata": {},
   "outputs": [],
   "source": [
    "#元组：不可以修改\n",
    "t1 = (1,\"Hello\",True)\n",
    "#t2 = (\"hello\") type = str\n",
    "t2 = (\"hello\",)\n",
    "t3 = tuple()\n",
    "print(f\"t1的类型是：{type(t1)},内容是：{t1}\")\n",
    "print(f\"t2的类型是：{type(t2)},内容是：{t2}\")\n",
    "print(f\"t3的类型是：{type(t3)},内容是：{t3}\")\n",
    "\n",
    "t5 = ((1,2,3),(4,5,6))\n",
    "print(f\"t5的类型是：{type(t5)},内容是：{t5}\")\n",
    "#下标索引\n",
    "num = t5[1][-1]\n",
    "print(num)"
   ]
  },
  {
   "cell_type": "code",
   "execution_count": null,
   "metadata": {},
   "outputs": [],
   "source": [
    "#元组操作\n",
    "#index\n",
    "t6 = (\"lrt\",\"222\",\"222\",\"222\",\"222\",555)\n",
    "index = t6.index(\"lrt\")\n",
    "print(index)\n",
    "#count\n",
    "number = t6.count(\"222\")\n",
    "print(number)\n",
    "#len\n",
    "count = len(t6)\n",
    "print(count)\n",
    "#元组遍历\n",
    "index = 0\n",
    "while index < len(t6):\n",
    "    element = t6[index]\n",
    "    print(f\"元组中的第{index}个元素：{element}\")\n",
    "    index +=1\n",
    "for e in t6:\n",
    "    print(f\"元组中的元素：{e}\")"
   ]
  },
  {
   "cell_type": "code",
   "execution_count": null,
   "metadata": {},
   "outputs": [],
   "source": [
    "#lambda 匿名函数 only one\n",
    "def test_func(compute):\n",
    "    result = compute(1,2)\n",
    "    print(result)\n",
    "def compute(x,y):\n",
    "    return x+y\n",
    "test_func(compute)\n",
    "test_func(lambda x,y:x+y)#默认return 没有名字 不同的是没办法二次使用它\n"
   ]
  },
  {
   "cell_type": "code",
   "execution_count": 34,
   "metadata": {},
   "outputs": [
    {
     "name": "stdout",
     "output_type": "stream",
     "text": [
      "lrt\n",
      "dict_keys(['name', 'number', 'tel'])\n",
      "dict_values(['lrt', '12345', '158444'])\n",
      "dict_items([('name', 'lrt'), ('number', '12345'), ('tel', '158444')])\n",
      "('name', 'lyx')\n",
      "('number', '23456')\n",
      "('tel', '159444')\n",
      "name:lyx\n",
      "number:23456\n",
      "tel:159444\n",
      "{'name': 'liruotong', 'number': '12345', 'tel': '158444', 'address': 'yanji', 'age': '18', 'birth': '200402'}\n",
      "('birth', '200402')\n"
     ]
    }
   ],
   "source": [
    "a_dict = {'name':'lrt','number':'12345','tel':'158444'}\n",
    "a_dict1 = {'address':'yanji','age':'18','birth':'200402'}\n",
    "keys = ['name','number','tel']\n",
    "values = ['lyx','23456','159444']\n",
    "b_dict = dict(zip(keys,values))\n",
    "#可用get方法读取\n",
    "print(a_dict.get('name'))\n",
    "#items()放法返回键值对\n",
    "print(a_dict.keys())\n",
    "print(a_dict.values())\n",
    "print(a_dict.items())\n",
    "#for 遍历字典\n",
    "for item in b_dict.items():\n",
    "    print(item)\n",
    "for key,value in b_dict.items():\n",
    "    print(key,value,sep =':')\n",
    "\n",
    "#字典的添加与修改:直接修改\n",
    "a_dict['name'] = 'liruotong'\n",
    "# a_dict['address'] = 'yanji'\n",
    "a_dict.update(a_dict1)\n",
    "print(a_dict)\n",
    "# a_dict.pop('birth')\n",
    "print(a_dict.popitem())#最后一个键值对删除并返回\n",
    "\n"
   ]
  },
  {
   "cell_type": "code",
   "execution_count": null,
   "metadata": {},
   "outputs": [],
   "source": [
    "print(globals())#\n",
    "locals()"
   ]
  },
  {
   "cell_type": "code",
   "execution_count": 38,
   "metadata": {},
   "outputs": [
    {
     "name": "stdout",
     "output_type": "stream",
     "text": [
      "Counter({'blue': 3, 'red': 2, 'green': 1})\n"
     ]
    },
    {
     "data": {
      "text/plain": [
       "[('blue', 3), ('red', 2), ('green', 1)]"
      ]
     },
     "execution_count": 38,
     "metadata": {},
     "output_type": "execute_result"
    }
   ],
   "source": [
    "from collections import Counter\n",
    "import re\n",
    "\n",
    "cnt = Counter()\n",
    "for word in ['red', 'blue', 'red', 'green', 'blue', 'blue']:\n",
    "   cnt[word] += 1\n",
    "print(cnt)\n",
    "\n",
    "Counter({'blue': 3, 'red': 2, 'green': 1})\n",
    "words = re.findall(r'\\w+', open('test.txt').read().lower())\n",
    "Counter(words).most_common(10) #出现次数最多的10个单词\n"
   ]
  },
  {
   "cell_type": "code",
   "execution_count": 3,
   "metadata": {},
   "outputs": [
    {
     "data": {
      "text/plain": [
       "[5, 5, 5, 5, 5, 5, 5, 5, 5, 5]"
      ]
     },
     "execution_count": 3,
     "metadata": {},
     "output_type": "execute_result"
    }
   ],
   "source": [
    "list = [5 for i in range(10)]\n",
    "list"
   ]
  },
  {
   "cell_type": "code",
   "execution_count": 9,
   "metadata": {},
   "outputs": [
    {
     "name": "stdout",
     "output_type": "stream",
     "text": [
      "hello world\n",
      "我是lrt，我的学号是123,我的电话是121\n"
     ]
    }
   ],
   "source": [
    "# 字符串\n",
    "#f：format\n",
    "name1 = \"lrt\"\n",
    "num = \"123\"\n",
    "tel = \"121\"\n",
    "print(\"{0} {1}\".format(\"hello\", \"world\"))  # 设置指定位置\n",
    "print(f\"我是{name1}，我的学号是{num},我的电话是{tel}\")"
   ]
  }
 ],
 "metadata": {
  "kernelspec": {
   "display_name": "base",
   "language": "python",
   "name": "python3"
  },
  "language_info": {
   "codemirror_mode": {
    "name": "ipython",
    "version": 3
   },
   "file_extension": ".py",
   "mimetype": "text/x-python",
   "name": "python",
   "nbconvert_exporter": "python",
   "pygments_lexer": "ipython3",
   "version": "3.9.7"
  }
 },
 "nbformat": 4,
 "nbformat_minor": 2
}
