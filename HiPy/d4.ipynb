{
 "cells": [
  {
   "cell_type": "code",
   "execution_count": 4,
   "metadata": {},
   "outputs": [
    {
     "data": {
      "text/plain": [
       "['1a2b3c', 'd', 'e', 'g']"
      ]
     },
     "execution_count": 4,
     "metadata": {},
     "output_type": "execute_result"
    }
   ],
   "source": [
    "import re\n",
    "#re.A:不匹配unicode\n",
    "#re.I：忽略大小写\n",
    "#re.M：多行模式\n",
    "#re.S：单行模式\n",
    "#re.X：允许正则表达式换行\n",
    "re.findall('\\d+', '123１２３４')\n",
    "re.findall('\\d+', '123１２３４', re.A)\n",
    "re.findall('\\w+', '1a2b3c１d２e３g４')\n",
    "re.findall('\\w+', '1a2b3c１d２e３g４', re.A)"
   ]
  },
  {
   "cell_type": "code",
   "execution_count": null,
   "metadata": {},
   "outputs": [],
   "source": [
    "\n"
   ]
  }
 ],
 "metadata": {
  "kernelspec": {
   "display_name": "base",
   "language": "python",
   "name": "python3"
  },
  "language_info": {
   "codemirror_mode": {
    "name": "ipython",
    "version": 3
   },
   "file_extension": ".py",
   "mimetype": "text/x-python",
   "name": "python",
   "nbconvert_exporter": "python",
   "pygments_lexer": "ipython3",
   "version": "3.9.7"
  }
 },
 "nbformat": 4,
 "nbformat_minor": 2
}
