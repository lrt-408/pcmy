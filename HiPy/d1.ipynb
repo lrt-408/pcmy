{
 "cells": [
  {
   "cell_type": "markdown",
   "metadata": {},
   "source": [
    "查看类型type:查看的是变量存储的数据的类型，因为变量无类型"
   ]
  },
  {
   "cell_type": "code",
   "execution_count": null,
   "metadata": {},
   "outputs": [],
   "source": [
    "print(type(\"Hello World\"))\n",
    "int_type = type(122)\n",
    "print(int_type)\n",
    "\n",
    "#查看变量类型\n",
    "a = 6\n",
    "print(type(a))"
   ]
  },
  {
   "cell_type": "markdown",
   "metadata": {},
   "source": [
    "标识符：给很多东西起名字-变量、方法、类等等\n",
    "内容限定：英文、中文、数字不可以用在开头、下划线_；\n",
    "大小写敏感；不可使用关键字：比如True、False"
   ]
  },
  {
   "cell_type": "code",
   "execution_count": null,
   "metadata": {},
   "outputs": [],
   "source": [
    "#算数运算符\n",
    "print(\"1+1=\",1+1)\n",
    "print(\"1*7=\",1*7)\n",
    "print(\"9%2=\",9%2)\n",
    "print(\"2**2=\",2**2)\n",
    "#赋值运算符\n",
    "num = 1+2*3\n",
    "print(\"1+2*3=\",num)"
   ]
  },
  {
   "cell_type": "code",
   "execution_count": null,
   "metadata": {},
   "outputs": [],
   "source": [
    "#使用转义字符\\解决引号的效用 \n",
    "name = \"\\\"你是美女\\\"\"\n",
    "who = \"\\\"我是谁？\\\"\"\n",
    "print(name)\n",
    "#字符串的拼接\n",
    "print(who + name)\n",
    "tel=15844\n",
    "print(\"我的电话：\" + str(tel))#数字不能拼接哦~\n",
    "#字符串格式化:字符串和变量，和其他类型的快速拼接\n",
    "me = 12222 \n",
    "i = 12\n",
    "you = \"哇！%s\" % name\n",
    "print(you)#占位拼接，占个字符串的位置\n",
    "print(\"哇！ 真的吗？%s %s\" % (me , i))\n",
    "\n",
    "#更加快速的格式化：不限制类型同时也不关心数据精度\n",
    "name1 = \"lrtt\"\n",
    "num = 12138\n",
    "#f：format\n",
    "print(\"{1} {0} {1}\".format(\"hello\", \"world\"))  # 设置指定位置\n",
    "print(f\"我是{name1}，我的学号是{num},我的电话是{tel}\")\n",
    " \n",
    "#表达式的格式化\n",
    "print(f\"1 * 1 = {1 * 1}\")"
   ]
  },
  {
   "cell_type": "code",
   "execution_count": null,
   "metadata": {},
   "outputs": [],
   "source": [
    "#if 条件1 elif 条件2 else所有条件都不成立\n",
    "print(\"欢迎来到动物园！\")\n",
    "height = int(input(\"请输入身高cm：\"))\n",
    "vip_level = int(input(\"请输入你的vip级别：\"))\n",
    "if height < 120:\n",
    "    print(\"You can have it for free!\")\n",
    "elif vip_level > 3:\n",
    "    print(\"You can have it for free!\")\n",
    "else:\n",
    "    print(\"Sorry,you don not pass.You need to spend 10yuan.\")\n",
    "print(\"Have a good time!\")"
   ]
  },
  {
   "cell_type": "code",
   "execution_count": null,
   "metadata": {},
   "outputs": [],
   "source": [
    "#while 猜数字\n",
    "#无限次机会；每次都会提示大了还是小了；完事了会提示猜了几次\n",
    "import random\n",
    "num = random.randint(1,100)#1-100 random \n",
    "\n",
    "#记录guess多少\n",
    "count = 0\n",
    "\n",
    "#实现无限次机会猜测\n",
    "flag = True \n",
    "while flag:\n",
    "    guess_num = int(input(\"please input your guess:\"))\n",
    "    count +=1\n",
    "    if guess_num == num:\n",
    "        print(\"All Right!\")\n",
    "        flag = False #Stop\n",
    "    else:\n",
    "        if guess_num > num:\n",
    "            print(\"bigger\")\n",
    "        else:\n",
    "            print(\"smaller\")\n",
    "\n",
    "print(f\"Guess in total:{count}\")"
   ]
  },
  {
   "cell_type": "code",
   "execution_count": null,
   "metadata": {},
   "outputs": [],
   "source": [
    "#for 输出乘法表\n",
    "\n",
    "#通过外层循环控制行数\n",
    "for i in range(1,10):\n",
    "    #内层循环控制每一行的数据\n",
    "    for j in range(1,i+1):\n",
    "        print(f\"{j} * {i}= {j*i}\\t\",end='')#写内容啦\n",
    "\n",
    "    #外层循环输出回车符\n",
    "    print()\n"
   ]
  },
  {
   "cell_type": "code",
   "execution_count": null,
   "metadata": {},
   "outputs": [],
   "source": [
    "#函数：自动查核酸\n",
    "def check():\n",
    "    print(\"Welcome!\\nPlease 72h\")\n",
    "\n",
    "#升级版\n",
    "def check1(number):\n",
    "    print(\"请配合量体温！\")\n",
    "    if number <= 37.5:\n",
    "        print(f\"体温测量中，您的体温是{number}摄氏度，体温正常请进！\")\n",
    "    else:\n",
    "        print(f\"体温测量中，您的体温是{number}摄氏度，体温不正常请配合隔离！\")\n",
    "\n",
    "check()\n",
    "num = float(input(\"请输入你的体温：\"))\n",
    "check1(num)"
   ]
  },
  {
   "cell_type": "code",
   "execution_count": null,
   "metadata": {},
   "outputs": [],
   "source": [
    "#函数：ATM\n",
    "#定义全局变量 money name\n",
    "money = 5000000\n",
    "name = None\n",
    "#要求客户输入姓名\n",
    "name = input(\"请输入你的姓名：\")\n",
    "#定义查询函数\n",
    "def query(show_header):\n",
    "    if show_header:\n",
    "        print(\"----------------------查询余额-------------------\")\n",
    "    print(f\"{name}，您好，您的余额为:{money}元\")\n",
    "#定义存款函数\n",
    "def saving(num):\n",
    "    global money #money 在函数内部定义为全局变量\n",
    "    money += num\n",
    "    print(\"----------------------存款-------------------\")\n",
    "    print(f\"{name}，您好，成功存入{num}元\")\n",
    "\n",
    "    query(False)\n",
    "#定义取款函数\n",
    "def get_money(num):\n",
    "    money -= num\n",
    "    print(\"----------------------取款-------------------\")\n",
    "    print(f\"{name}，您好，成功取出{num}元\")\n",
    "\n",
    "    query(False)\n",
    "#定义主菜单\n",
    "def main():\n",
    "    print(\"----------------------主菜单-------------------\")\n",
    "    print(f\"{name}，您好，欢迎来到银行\")\n",
    "    print(\"查询余额\\t[输入1]\")\n",
    "    print(\"存款\\t[输入2]\")\n",
    "    print(\"取款\\t[输入3]\")\n",
    "    print(\"退出\\t[输入4]\") #\\t对齐\n",
    "    return input(\"请输入你的选择：\")\n",
    "#设置无限循环，确保程序不退出\n",
    "while True:\n",
    "    Keyboard_input = main()\n",
    "    if Keyboard_input == \"1\":\n",
    "        query(True)\n",
    "        continue\n",
    "    elif Keyboard_input == \"2\":\n",
    "        num = int(input(\"您存入多少元呢？请输入：\"))\n",
    "        saving(num)\n",
    "        continue\n",
    "    elif Keyboard_input == \"3\":\n",
    "        num = int(input(\"您取出多少元呢？请输入：\"))\n",
    "        get_money(num)\n",
    "        continue\n",
    "    else:\n",
    "        print(\"程序退出\")\n",
    "        break"
   ]
  }
 ],
 "metadata": {
  "kernelspec": {
   "display_name": "base",
   "language": "python",
   "name": "python3"
  },
  "language_info": {
   "codemirror_mode": {
    "name": "ipython",
    "version": 3
   },
   "file_extension": ".py",
   "mimetype": "text/x-python",
   "name": "python",
   "nbconvert_exporter": "python",
   "pygments_lexer": "ipython3",
   "version": "3.9.7"
  }
 },
 "nbformat": 4,
 "nbformat_minor": 2
}
