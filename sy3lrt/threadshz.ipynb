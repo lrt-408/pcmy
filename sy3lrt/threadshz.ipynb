{
 "cells": [
  {
   "cell_type": "code",
   "execution_count": 1,
   "metadata": {},
   "outputs": [],
   "source": [
    "import os  \n",
    "import sys  \n",
    "import threading  \n",
    "import time  \n",
    "import queue  "
   ]
  },
  {
   "cell_type": "code",
   "execution_count": 2,
   "metadata": {},
   "outputs": [],
   "source": [
    "# 定义全局变量  \n",
    "names_file = \"names.txt\"  \n",
    "chapter_folder = \"shz\"  \n",
    "line_queue = queue.Queue(maxsize=10)  # 假设队列的最大尺寸是10  \n",
    "condition = threading.Condition()  \n",
    "progress = 0  "
   ]
  },
  {
   "cell_type": "code",
   "execution_count": 3,
   "metadata": {},
   "outputs": [],
   "source": [
    "# 从names.txt中读取主要人物列表  \n",
    "def get_main_characters():  \n",
    "    with open(names_file, 'r', encoding='utf-8') as f:  \n",
    "        return [line.strip() for line in f]  \n",
    "  \n",
    "main_characters = get_main_characters()  "
   ]
  },
  {
   "cell_type": "code",
   "execution_count": 4,
   "metadata": {},
   "outputs": [],
   "source": [
    "# 第一个子线程：查找主要人物并放入line_queue  \n",
    "def thread_1_task():  \n",
    "    global progress  \n",
    "    with condition:  \n",
    "        for chapter_num in range(1,122):\n",
    "            chapter_file = f'水浒传第{chapter_num}回.txt'\n",
    "            if chapter_file.endswith(\".txt\"):  \n",
    "                with open(os.path.join(chapter_folder, chapter_file), 'r', encoding='utf-8') as f:  \n",
    "                    for line_num, line in enumerate(f, start=1):  \n",
    "                        for character in main_characters:  \n",
    "                            if character in line:  \n",
    "                                line_data = [chapter_num, line_num, line]  \n",
    "                                line_queue.put(line_data)  \n",
    "                                with condition:  \n",
    "                                    progress += 1  \n",
    "                                    condition.notify_all()  \n",
    "                                time.sleep(0.01)  # 模拟处理延迟  \n",
    "                                if line_queue.full():  \n",
    "                                    while line_queue.full():  \n",
    "                                        condition.wait() "
   ]
  },
  {
   "cell_type": "code",
   "execution_count": 5,
   "metadata": {},
   "outputs": [],
   "source": [
    "# 第二个子线程：从line_queue读取数据并写入文件  \n",
    "def thread_2_task():  \n",
    "    global progress  \n",
    "    while True:  \n",
    "        with condition:  \n",
    "            while line_queue.empty():  \n",
    "                condition.wait()  \n",
    "            while not line_queue.empty():  \n",
    "                chapter_num, line_num, line = line_queue.get()  \n",
    "                for character in main_characters:  \n",
    "                    if character in line:  \n",
    "                        with open(f\"{character}.txt\", 'a', encoding='utf-8') as f:  \n",
    "                            f.write(f\"{chapter_num}|{line_num}|{line}\\n\")  \n",
    "                line_queue.task_done()  \n",
    "                progress += 1  \n",
    "                condition.notify_all()  \n",
    "            if progress >= 121 * 1000:\n",
    "                break  \n",
    "            time.sleep(0.01)  # 模拟处理延迟  "
   ]
  },
  {
   "cell_type": "code",
   "execution_count": 6,
   "metadata": {},
   "outputs": [],
   "source": [
    "# 第三个子线程：进度监控  \n",
    "def thread_3_task():  \n",
    "    global progress  \n",
    "    chapter_num, line_num, line = line_queue.get() \n",
    "    while chapter_num < 121: \n",
    "        chapter_num, line_num, line = line_queue.get() \n",
    "        sys.stdout.write(\"\\r正在处理水浒传第{}回Progress: {}%\".format(chapter_num,(chapter_num/ 121)*100) ) # 输出进度百分比  \n",
    "        sys.stdout.flush()  \n",
    "        time.sleep(1)  # 每秒更新一次进度显示  \n",
    "    print(\"\\nTask Completed!\")  "
   ]
  },
  {
   "cell_type": "code",
   "execution_count": null,
   "metadata": {},
   "outputs": [
    {
     "name": "stdout",
     "output_type": "stream",
     "text": [
      "正在处理水浒传第3回Progress: 2.479338842975207%"
     ]
    },
    {
     "name": "stdout",
     "output_type": "stream",
     "text": [
      "正在处理水浒传第121回Progress: 100.0%55371900827%\n",
      "Task Completed!\n"
     ]
    }
   ],
   "source": [
    "# 创建并启动线程\n",
    "thread_1 = threading.Thread(target=thread_1_task)  \n",
    "thread_2 = threading.Thread(target=thread_2_task)  \n",
    "thread_3 = threading.Thread(target=thread_3_task)  \n",
    "thread_1.start()  \n",
    "thread_2.start()  \n",
    "thread_3.start()"
   ]
  }
 ],
 "metadata": {
  "kernelspec": {
   "display_name": "Python 3",
   "language": "python",
   "name": "python3"
  },
  "language_info": {
   "codemirror_mode": {
    "name": "ipython",
    "version": 3
   },
   "file_extension": ".py",
   "mimetype": "text/x-python",
   "name": "python",
   "nbconvert_exporter": "python",
   "pygments_lexer": "ipython3",
   "version": "3.9.7"
  },
  "orig_nbformat": 4,
  "vscode": {
   "interpreter": {
    "hash": "e0144baad0ecee903f108a3e46e51ceadd7da3fc904cfa79747d813b61464b4e"
   }
  }
 },
 "nbformat": 4,
 "nbformat_minor": 2
}
