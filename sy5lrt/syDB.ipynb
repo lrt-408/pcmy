{
 "cells": [
  {
   "cell_type": "code",
   "execution_count": 1,
   "metadata": {},
   "outputs": [],
   "source": [
    "import sqlite3\n",
    "import os\n",
    "DEBUG = True"
   ]
  },
  {
   "cell_type": "code",
   "execution_count": 2,
   "metadata": {},
   "outputs": [],
   "source": [
    "# 创建数据库连接\n",
    "def db_conn(database):\n",
    "    conn = sqlite3.connect(database)\n",
    "    if conn:\n",
    "        print(\"ok\")\n",
    "        if isinstance(conn, sqlite3.Connection):# 能不能正常连接\n",
    "            return conn\n",
    "    print(\"no\")\n",
    "    return False"
   ]
  },
  {
   "cell_type": "code",
   "execution_count": 3,
   "metadata": {},
   "outputs": [],
   "source": [
    "\n",
    "def my_excute(conn, c, sql):\n",
    "    try:\n",
    "        c.execute(sql)\n",
    "    except Exception as e:\n",
    "        print(e)\n",
    "        conn.rollback()\n",
    "    else:\n",
    "        conn.commit()\n",
    "\n",
    "def db_create():\n",
    "    conn = sqlite3.connect(\"myDB.db\")\n",
    "    #生成了可用于增删改查的一个对象\n",
    "    c = conn.cursor()\n",
    "    #python sqlite3  事务形式：一条或多条进行时有错，会发生适度回滚\n",
    "    try:\n",
    "        #核心:创建表\n",
    "        c.execute(\"create table if not exists file(id integer primary key autoincrement,name text)\")\n",
    "    except sqlite3.ProgrammingError as e:\n",
    "        print(e)\n",
    "        conn.rollback()\n",
    "    except sqlite3.OperationalError as e:\n",
    "        if DEBUG:\n",
    "            print(e)\n",
    "        else:\n",
    "            print(\"命令错误【error code 111】\") # print(e)\n",
    "    else:\n",
    "        conn.commit()\n",
    "    finally:\n",
    "        # conn.close() # 尽可能让连接只存在于这个会话\n",
    "        pass"
   ]
  },
  {
   "cell_type": "code",
   "execution_count": 4,
   "metadata": {},
   "outputs": [],
   "source": [
    "#写数据\n",
    "def db_insert(name):\n",
    "    conn = sqlite3.connect(\"myDB.db\")\n",
    "    c = conn.cursor()\n",
    "    try:    \n",
    "        c.execute(\"insert into file (name) values  (?)\", (name,))\n",
    "    except Exception as e:\n",
    "        print(e)\n",
    "        conn.rollback()\n",
    "    else:\n",
    "        conn.commit()"
   ]
  },
  {
   "cell_type": "code",
   "execution_count": 5,
   "metadata": {},
   "outputs": [],
   "source": [
    "#查数据\n",
    "def db_select(conn):\n",
    "    try:\n",
    "        c = conn.cursor()\n",
    "        c.execute('SELECT * FROM file')\n",
    "        rows = c.fetchall()\n",
    "        print(\"表格如下：\")\n",
    "        for row in rows:\n",
    "            print(row)\n",
    "    except Exception as e:\n",
    "        print(\"An error occurred while selecting data from the table:\", e)"
   ]
  },
  {
   "cell_type": "code",
   "execution_count": 6,
   "metadata": {},
   "outputs": [
    {
     "name": "stdout",
     "output_type": "stream",
     "text": [
      "ok\n",
      "表格如下：\n",
      "(1, '水浒传第2回.txt')\n",
      "(2, '水浒传第3回.txt')\n",
      "(3, '水浒传第6回.txt')\n",
      "(4, '水浒传第7回.txt')\n",
      "(5, '水浒传第2回.txt')\n",
      "(6, '水浒传第3回.txt')\n",
      "(7, '水浒传第6回.txt')\n",
      "(8, '水浒传第7回.txt')\n",
      "(9, '水浒传第2回.txt')\n",
      "(10, '水浒传第3回.txt')\n",
      "(11, '水浒传第6回.txt')\n",
      "(12, '水浒传第7回.txt')\n"
     ]
    }
   ],
   "source": [
    "if __name__ == '__main__':\n",
    "    # 连接数据库\n",
    "    conn = db_conn(\"myDB.db\")\n",
    "    if conn:\n",
    "        # 创建表格\n",
    "        db_create()\n",
    "         # 获取out文件夹中的文件名\n",
    "        path = \"out\"\n",
    "        file_names = os.listdir(path)\n",
    "\n",
    "        # 插入数据\n",
    "        for file_name in file_names:\n",
    "            db_insert(file_name)\n",
    "\n",
    "        # 查询数据并输出到屏幕\n",
    "        db_select(conn)\n",
    "    else:\n",
    "        print(\"Failed\")\n",
    "    "
   ]
  }
 ],
 "metadata": {
  "kernelspec": {
   "display_name": "base",
   "language": "python",
   "name": "python3"
  },
  "language_info": {
   "codemirror_mode": {
    "name": "ipython",
    "version": 3
   },
   "file_extension": ".py",
   "mimetype": "text/x-python",
   "name": "python",
   "nbconvert_exporter": "python",
   "pygments_lexer": "ipython3",
   "version": "3.9.7"
  }
 },
 "nbformat": 4,
 "nbformat_minor": 2
}
