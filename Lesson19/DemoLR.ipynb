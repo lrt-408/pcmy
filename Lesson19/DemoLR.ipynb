{
 "cells": [
  {
   "cell_type": "code",
   "execution_count": 9,
   "metadata": {},
   "outputs": [],
   "source": [
    "# y = w * x + b\n",
    "# y_ = (y_raw - (w_cur * x + b_cur))^2\n",
    "#(真实值 - 预测值)^2   均方误差\n"
   ]
  },
  {
   "cell_type": "code",
   "execution_count": 10,
   "metadata": {},
   "outputs": [],
   "source": [
    "import numpy as np \n",
    "from matplotlib import pyplot as plt\n",
    "import sys\n",
    "import threading"
   ]
  },
  {
   "cell_type": "code",
   "execution_count": 11,
   "metadata": {},
   "outputs": [
    {
     "data": {
      "image/png": "[encoded data removed]",
      "text/plain": [
       "<Figure size 432x288 with 1 Axes>"
      ]
     },
     "metadata": {
      "needs_background": "light"
     },
     "output_type": "display_data"
    }
   ],
   "source": [
    "x = np.random.randn(100)#生成100个样本点\n",
    "w = 1.8\n",
    "b = 3\n",
    "y = w * x + b\n",
    "#增加噪声，生成随机数\n",
    "y_ = y + np.random.randn(100)\n",
    "plt.plot(x, y)\n",
    "y1 = 1.0 * x + b\n",
    "plt.plot(x, y1)\n",
    "y2 = 1.2 * x + b\n",
    "plt.plot(x, y2)\n",
    "plt.plot(x, y_, \".\")\n",
    "plt.show()"
   ]
  },
  {
   "cell_type": "code",
   "execution_count": 12,
   "metadata": {},
   "outputs": [],
   "source": [
    "def step_gradient(b_cur, w_cur, points, lr):\n",
    "    #梯度归零\n",
    "    b_grad = 0\n",
    "    w_grad = 0\n",
    "    n = float(len(points))\n",
    "    for i in range(int(n)):\n",
    "        x = points[i, 0]\n",
    "        y = points[i, 1]\n",
    "        b_grad += 2 * (w_cur * x + b_cur - y)\n",
    "        w_grad += 2 * (w_cur * x + b_cur - y) * x\n",
    "    b_grad = b_grad / n\n",
    "    w_grad = w_grad / n\n",
    "    new_b = b_cur - lr * b_grad\n",
    "    new_w = w_cur - lr * w_grad\n",
    "    return new_b, new_w\n",
    "    \n"
   ]
  },
  {
   "cell_type": "code",
   "execution_count": 13,
   "metadata": {},
   "outputs": [],
   "source": [
    "def update_progress(iteration, total):\n",
    "    progress = iteration / total #迭代完成程度\n",
    "    bar_length = 30\n",
    "    finish_length = int(bar_length * progress) #表示已完成部分的长度\n",
    "    bar = '=' * finish_length + '-' * (bar_length - finish_length)\n",
    "    sys.stdout.write(f'\\rProgress: [{bar}] {int(progress * 100)}%')\n",
    "    sys.stdout.flush()"
   ]
  },
  {
   "cell_type": "code",
   "execution_count": 14,
   "metadata": {},
   "outputs": [],
   "source": [
    "def runner(points, start_b, start_w, lr, epoch):\n",
    "    b = start_b\n",
    "    w = start_w\n",
    "    for i in range(epoch):\n",
    "        b, w = step_gradient(b, w, np.array(points), lr)\n",
    "        update_progress(i+1, epoch)\n",
    "    sys.stdout.write('\\n')\n",
    "    return [b, w]"
   ]
  },
  {
   "cell_type": "code",
   "execution_count": 15,
   "metadata": {},
   "outputs": [],
   "source": [
    "csv_file = open(\"data.csv\",\"w\",encoding = \"utf-8\")\n",
    "for i in range(len(x)):\n",
    "    csv_file.write(f\"{x[i]},{y_[i]}\\n\")\n",
    "csv_file.close()"
   ]
  },
  {
   "cell_type": "code",
   "execution_count": 16,
   "metadata": {},
   "outputs": [
    {
     "name": "stdout",
     "output_type": "stream",
     "text": [
      "Progress: [==============================] 100%\n",
      "y = 1.75380488370377 * x + 3.044565493138328\n"
     ]
    },
    {
     "data": {
      "image/png": "[encoded data removed]",
      "text/plain": [
       "<Figure size 432x288 with 1 Axes>"
      ]
     },
     "metadata": {
      "needs_background": "light"
     },
     "output_type": "display_data"
    }
   ],
   "source": [
    "points = np.genfromtxt(\"data.csv\", delimiter=\",\")\n",
    "#超参设定\n",
    "lr = 0.001\n",
    "b_start = 0\n",
    "w_start = 0\n",
    "epoch = 10000\n",
    "#训练过程\n",
    "b, w = runner(points, b_start, w_start, lr, epoch)\n",
    "print(f\"y = {w} * x + {b}\")\n",
    "y_g = w * x + b\n",
    "plt.figure(1)\n",
    "plt.plot(x, y_, \".\")\n",
    "plt.plot(x, y_g)\n",
    "plt.show()"
   ]
  }
 ],
 "metadata": {
  "kernelspec": {
   "display_name": "base",
   "language": "python",
   "name": "python3"
  },
  "language_info": {
   "codemirror_mode": {
    "name": "ipython",
    "version": 3
   },
   "file_extension": ".py",
   "mimetype": "text/x-python",
   "name": "python",
   "nbconvert_exporter": "python",
   "pygments_lexer": "ipython3",
   "version": "3.9.7"
  }
 },
 "nbformat": 4,
 "nbformat_minor": 2
}
