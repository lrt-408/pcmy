{
 "cells": [
  {
   "cell_type": "code",
   "execution_count": null,
   "metadata": {},
   "outputs": [],
   "source": [
    "import sqlite3\n",
    "\n",
    "DEBUG = True"
   ]
  },
  {
   "cell_type": "code",
   "execution_count": null,
   "metadata": {},
   "outputs": [],
   "source": [
    "# 创建数据库连接\n",
    "def db_conn(database):\n",
    "    conn = sqlite3.connect(database)\n",
    "    if conn:\n",
    "        print(\"ok\")\n",
    "        if isinstance(conn, sqlite3.Connection):# 能不能正常连接\n",
    "            return True\n",
    "    print(\"no\")\n",
    "    return False"
   ]
  },
  {
   "cell_type": "code",
   "execution_count": null,
   "metadata": {},
   "outputs": [],
   "source": [
    "#增删改查\n",
    "def create_table(conn , table_name, field):\n",
    "    pass\n",
    "\n",
    "def my_excute(conn, c, sql):\n",
    "    try:\n",
    "        c.execute(sql)\n",
    "    except Exception as e:\n",
    "        print(e)\n",
    "        conn.rollback()\n",
    "    else:\n",
    "        conn.commit()\n",
    "\n",
    "def db_create(database):\n",
    "    conn = sqlite3.connect(database)\n",
    "    #生成了可用于增删改查的一个对象\n",
    "    c = conn.cursor()\n",
    "    #python sqlite3  事务形式：一条或多条进行时有错，会发生适度回滚\n",
    "    try:\n",
    "        #核心:创建表\n",
    "        c.execute(\"create table if not exists student(id integer primary key autoincrement, name text, age integer, score real)\")\n",
    "    except sqlite3.ProgrammingError as e:\n",
    "        print(e)\n",
    "        conn.rollback()\n",
    "    except sqlite3.OperationalError as e:\n",
    "        if DEBUG:\n",
    "            print(e)\n",
    "        else:\n",
    "            print(\"命令错误【error code 111】\") # print(e)\n",
    "    else:\n",
    "        conn.commit()\n",
    "    finally:\n",
    "        # conn.close() # 尽可能让连接只存在于这个会话\n",
    "        pass\n"
   ]
  },
  {
   "cell_type": "code",
   "execution_count": null,
   "metadata": {},
   "outputs": [],
   "source": [
    "#写数据\n",
    "def db_insert(database,name, age, score):\n",
    "    conn = sqlite3.connect(database)\n",
    "    c = conn.cursor()\n",
    "    try:    \n",
    "        c.execute(\"insert into student values(null, ?, ?, ?)\", (name, age, score))\n",
    "    except Exception as e:\n",
    "        print(e)\n",
    "        conn.rollback\n",
    "    else:\n",
    "        conn.commit()"
   ]
  },
  {
   "cell_type": "code",
   "execution_count": null,
   "metadata": {},
   "outputs": [],
   "source": [
    "# 修改\n",
    "try:\n",
    "    c.execute(\"update student set name= 'Rose' where id =2\")\n",
    "except Exception as e:\n",
    "    print(e)\n",
    "    conn.rollback\n",
    "else:\n",
    "    conn.commit()"
   ]
  },
  {
   "cell_type": "code",
   "execution_count": null,
   "metadata": {},
   "outputs": [],
   "source": [
    "#删数据\n",
    "'''\n",
    "try:\n",
    "    c.execute(\"delete from student where id = 3\")\n",
    "except Exception as e:\n",
    "    print(e)\n",
    "    conn.rollback\n",
    "else:\n",
    "    conn.commit()\n",
    "'''\n",
    "my_excute(conn ,c ,\"delete from student where id = 4\")\n"
   ]
  },
  {
   "cell_type": "code",
   "execution_count": null,
   "metadata": {},
   "outputs": [],
   "source": [
    "#查数据\n",
    "def db_select():\n",
    "    try:\n",
    "        c.execute(\"select * from student\")\n",
    "    except Exception as e:\n",
    "        print(e)\n",
    "    else:\n",
    "        data_list = c.fetchall() #fetchone 返回一条\n",
    "        for item in data_list:\n",
    "            print(f\"学号:{item[0]} 姓名:{item[1]} 年龄:{item[2]} 成绩:{item[3]}\")\n",
    "    "
   ]
  },
  {
   "cell_type": "code",
   "execution_count": null,
   "metadata": {},
   "outputs": [],
   "source": [
    "# 多条记录\n",
    "# excutemany(sql,插入数据的iter)\n",
    "#例如：\n",
    "#[\n",
    "#[null,'a', 20, 90],\n",
    "#[null,'b',21,98],\n",
    "# ......\n",
    "#]\n",
    "names = 'abcde'\n",
    "ages = [20,21,19,19,20]\n",
    "scores = [90,99,98,95,100]\n",
    "data = zip(names, ages, scores)#打包：每三个：a 20 90\n",
    "\n",
    "try:\n",
    "    c.executemany(\"insert into student values (null, ?,?,?)\",data)\n",
    "except Exception as e:\n",
    "    print(e)\n",
    "    conn.rollback()\n",
    "else:\n",
    "    conn.commit()\n"
   ]
  },
  {
   "cell_type": "code",
   "execution_count": null,
   "metadata": {},
   "outputs": [],
   "source": [
    "data = [\n",
    "    ['aa',1],\n",
    "    ['bb',10],\n",
    "    ['cc',12]\n",
    "]\n",
    "\n",
    "try:\n",
    "    c.executemany(\"update student set name=? where id = ?\",data)\n",
    "except Exception as e:\n",
    "    print(e)\n",
    "    conn.rollback()\n",
    "else:\n",
    "    conn.commit()\n"
   ]
  }
 ],
 "metadata": {
  "kernelspec": {
   "display_name": "base",
   "language": "python",
   "name": "python3"
  },
  "language_info": {
   "codemirror_mode": {
    "name": "ipython",
    "version": 3
   },
   "file_extension": ".py",
   "mimetype": "text/x-python",
   "name": "python",
   "nbconvert_exporter": "python",
   "pygments_lexer": "ipython3",
   "version": "3.9.7"
  }
 },
 "nbformat": 4,
 "nbformat_minor": 2
}
