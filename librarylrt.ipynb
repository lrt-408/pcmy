{
 "cells": [
  {
   "cell_type": "markdown",
   "metadata": {},
   "source": [
    "Book基类：书名、数量属性，增加书籍和减少书籍，\n",
    "增加书籍和减少书籍使用interface形式继承。"
   ]
  },
  {
   "cell_type": "code",
   "execution_count": 23,
   "metadata": {},
   "outputs": [],
   "source": [
    "class Book:\n",
    "    def __init__(self, book_name, quantity):\n",
    "        self.book_name = book_name\n",
    "        self.quantity = quantity\n",
    "\n",
    "    def add_book(self, number):\n",
    "        self.quantity += number\n",
    "\n",
    "    def reduce_book(self, number):\n",
    "        if number <= self.quantity:\n",
    "            self.quantity -= number\n",
    "        else:\n",
    "            print(\"库存不够！！\")"
   ]
  },
  {
   "cell_type": "markdown",
   "metadata": {},
   "source": [
    "派生出子类如Admin和User，继承Book的基类。\n",
    "Admin是管理者，书籍入库、借出和查询余书的方法。\n",
    "User是读者，包括借书、还书和查询已借到书记列列表方法。"
   ]
  },
  {
   "cell_type": "code",
   "execution_count": 24,
   "metadata": {},
   "outputs": [],
   "source": [
    "class Admin(Book):\n",
    "    def __init__(self, book_name, quantity):\n",
    "        super().__init__(book_name, quantity)\n",
    "\n",
    "    def add_book(self, number):\n",
    "        super().add_book(number)\n",
    "\n",
    "    def reduce_book(self, number):\n",
    "        super().reduce_book(number)\n",
    "\n",
    "    def check_inventory(self):\n",
    "        print(f\"当前{self.book_name}的库存为：{self.quantity}\")\n"
   ]
  },
  {
   "cell_type": "code",
   "execution_count": 25,
   "metadata": {},
   "outputs": [],
   "source": [
    "class User(Book):\n",
    "    def __init__(self, book_name, quantity):\n",
    "        super().__init__(book_name, quantity)\n",
    "        self.borrowed_books = {}\n",
    "\n",
    "    def borrow_book(self, number):\n",
    "        if number <= self.quantity:\n",
    "            self.reduce_book(number)\n",
    "            self.borrowed_books[self.book_name] = self.borrowed_books.get(self.book_name, 0) + number\n",
    "            print(\"成功借阅\", number, \"本\", self.book_name)\n",
    "        else:\n",
    "            print(\"库存不足，不能继续借阅！\")\n",
    "\n",
    "    def return_book(self, number):\n",
    "        if self.borrowed_books.get(self.book_name, 0) >= number:\n",
    "            self.borrowed_books[self.book_name] -= number\n",
    "            self.add_book(number)\n",
    "            print(\"您已经成功归还\", number, \"本\", self.book_name)\n",
    "        else:\n",
    "            print(\"借阅数量有误，不可以还书啦！\")\n",
    "\n",
    "    def check_borrowed_books(self):\n",
    "        print(f\"您正在借阅{self.book_name}的数量：{self.quantity}\")\n",
    "        for book, number in self.borrowed_books.items():\n",
    "            print(book, \":\", number, \"本\")"
   ]
  },
  {
   "cell_type": "markdown",
   "metadata": {},
   "source": [
    "测试类的正确性"
   ]
  },
  {
   "cell_type": "code",
   "execution_count": 26,
   "metadata": {},
   "outputs": [
    {
     "name": "stdout",
     "output_type": "stream",
     "text": [
      "当前《Python程序设计》的库存为：50\n",
      "当前《Python程序设计》的库存为：52\n",
      "当前《Python程序设计》的库存为：22\n",
      "成功借阅 7 本 《Python程序设计》\n",
      "您正在借阅《Python程序设计》的数量：3\n",
      "《Python程序设计》 : 7 本\n",
      "您已经成功归还 5 本 《Python程序设计》\n",
      "您正在借阅《Python程序设计》的数量：8\n",
      "《Python程序设计》 : 2 本\n"
     ]
    }
   ],
   "source": [
    "\n",
    "admin = Admin(\"《Python程序设计》\", 50)\n",
    "admin.check_inventory()  \n",
    "admin.add_book(2)\n",
    "admin.check_inventory()  \n",
    "admin.reduce_book(30)\n",
    "admin.check_inventory()  \n",
    "\n",
    "user = User(\"《Python程序设计》\", 10)\n",
    "user.borrow_book(7)  \n",
    "user.check_borrowed_books()  \n",
    "user.return_book(5)  \n",
    "user.check_borrowed_books()  "
   ]
  }
 ],
 "metadata": {
  "kernelspec": {
   "display_name": "base",
   "language": "python",
   "name": "python3"
  },
  "language_info": {
   "name": "python",
   "version": "3.9.7"
  }
 },
 "nbformat": 4,
 "nbformat_minor": 2
}
