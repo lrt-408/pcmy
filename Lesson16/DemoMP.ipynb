{
 "cells": [
  {
   "cell_type": "code",
   "execution_count": 3,
   "metadata": {},
   "outputs": [
    {
     "name": "stdout",
     "output_type": "stream",
     "text": [
      "Done\n"
     ]
    }
   ],
   "source": [
    "from multiprocessing import Process \n",
    "\n",
    "\n",
    "def mpDemo(p_name):\n",
    "    print(f\"{p_name}进程ID：{os.getppid()}\")\n",
    "\n",
    "if __name__ == '__main__':\n",
    "    p = Process(target=mpDemo,args={'mp_1',})\n",
    "    p.start()\n",
    "    #等待子进程完事再退出主进程\n",
    "    p.join()\n",
    "    print(\"Done\")"
   ]
  }
 ],
 "metadata": {
  "kernelspec": {
   "display_name": "base",
   "language": "python",
   "name": "python3"
  },
  "language_info": {
   "codemirror_mode": {
    "name": "ipython",
    "version": 3
   },
   "file_extension": ".py",
   "mimetype": "text/x-python",
   "name": "python",
   "nbconvert_exporter": "python",
   "pygments_lexer": "ipython3",
   "version": "3.9.7"
  }
 },
 "nbformat": 4,
 "nbformat_minor": 2
}
