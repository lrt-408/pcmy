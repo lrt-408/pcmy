{
 "cells": [
  {
   "cell_type": "code",
   "execution_count": 8,
   "metadata": {},
   "outputs": [],
   "source": [
    "import json\n",
    "import requests as rq\n",
    "import os"
   ]
  },
  {
   "cell_type": "code",
   "execution_count": 7,
   "metadata": {},
   "outputs": [
    {
     "name": "stdout",
     "output_type": "stream",
     "text": [
      "<class 'str'>\n",
      "<class 'list'>\n"
     ]
    }
   ],
   "source": [
    "data = [{\"a\": 1, \"b\": 2, \"c\": 3}]\n",
    "data2 = json.dumps(data)\n",
    "print(type(data2))\n",
    "data3 = json.loads(data2)\n",
    "print(type(data3))"
   ]
  },
  {
   "cell_type": "code",
   "execution_count": 15,
   "metadata": {},
   "outputs": [
    {
     "name": "stdout",
     "output_type": "stream",
     "text": [
      "41\n"
     ]
    }
   ],
   "source": [
    "news_url = \"http://c.m.163.com/nc/article/headline/T1348647853363/0-40.html\"\n",
    "response = rq.get(news_url).content.decode(\"utf-8\")\n",
    "# print(response)\n",
    "news_dict = json.loads(response)\n",
    "print(len(news_dict['T1348647853363']))\n",
    "news_list = news_dict['T1348647853363']\n",
    "for news in news_list:\n",
    "    # 当前新闻的 图片地址\n",
    "    news_img_url = news['imgsrc']\n",
    "    # 获取图片字节码\n",
    "    img_response = rq.get(news_img_url).content\n",
    "    # 本地图片保存地址\n",
    "    path = \"D:\\\\Projects\\\\Demo02\\\\news_images\"\n",
    "    # 文件夹不存在，新建\n",
    "    if not os.path.isdir(path):\n",
    "        os.mkdir(path)\n",
    "    # 本地图片文件\n",
    "    img_file = \"{}\\\\{}\".format(path, news_img_url.split(\"/\")[-1])\n",
    "    # 字节码写入到图片文件\n",
    "    with open(img_file, \"wb\") as file:\n",
    "        file.write(img_response)"
   ]
  }
 ],
 "metadata": {
  "kernelspec": {
   "display_name": "base",
   "language": "python",
   "name": "python3"
  },
  "language_info": {
   "codemirror_mode": {
    "name": "ipython",
    "version": 3
   },
   "file_extension": ".py",
   "mimetype": "text/x-python",
   "name": "python",
   "nbconvert_exporter": "python",
   "pygments_lexer": "ipython3",
   "version": "3.9.18"
  }
 },
 "nbformat": 4,
 "nbformat_minor": 2
}
