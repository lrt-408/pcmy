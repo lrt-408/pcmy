{
 "cells": [
  {
   "cell_type": "code",
   "execution_count": null,
   "metadata": {},
   "outputs": [],
   "source": [
    "f = lambda x,y,z:x+y+z\n",
    "#等价于\n",
    "def f(x,y,z):\n",
    "    tmp= x + y + z\n",
    "    return tmp"
   ]
  },
  {
   "cell_type": "code",
   "execution_count": 4,
   "metadata": {},
   "outputs": [
    {
     "data": {
      "text/plain": [
       "[6, 7, 8, 9, 10]"
      ]
     },
     "execution_count": 4,
     "metadata": {},
     "output_type": "execute_result"
    }
   ],
   "source": [
    "a = [1,2,3,4,5]\n",
    "b = map(lambda x: x + 5,[1,2,3,4,5])\n",
    "#map函数 执行第二个参数位的for循环 取一个值进入到函数 然后返回\n",
    "\n",
    "f = lambda x :x+5\n",
    "z = map(f,a)\n",
    "list(z)\n"
   ]
  },
  {
   "cell_type": "code",
   "execution_count": 7,
   "metadata": {},
   "outputs": [],
   "source": [
    "def before(func):\n",
    "    def wrpper(*a,**b):\n",
    "        c=list(a[:])\n",
    "        for i in range (len(a)):\n",
    "            if isinstance(c[i],(int)):\n",
    "                c[i]=str(a[i])\n",
    "        return func(*a,**b)\n",
    "    return wrpper\n",
    "\n",
    "@before \n",
    "def test3(*a):\n",
    "    for i in a:\n",
    "        print(f\"{i}:{type(i)}\")"
   ]
  },
  {
   "cell_type": "code",
   "execution_count": 8,
   "metadata": {},
   "outputs": [
    {
     "name": "stdout",
     "output_type": "stream",
     "text": [
      "1:<class 'int'>\n",
      "2:<class 'int'>\n",
      "3:<class 'int'>\n",
      "4:<class 'str'>\n",
      "a:<class 'str'>\n",
      "7:<class 'int'>\n",
      "8:<class 'int'>\n"
     ]
    }
   ],
   "source": [
    "test3(1,2,3,\"4\",\"a\",7,8)"
   ]
  },
  {
   "cell_type": "markdown",
   "metadata": {},
   "source": [
    "权限认证"
   ]
  },
  {
   "cell_type": "code",
   "execution_count": 28,
   "metadata": {},
   "outputs": [],
   "source": [
    "#数据库列表\n",
    "auth ={\n",
    "    'user' : 0,\n",
    "    'author': 1,\n",
    "    'admin' : 3,\n",
    "}\n",
    "#登陆以后获得的信息\n",
    "global_session = {\n",
    "    'name' :'John',\n",
    "    'auth' :auth['admin'],\n",
    "}\n"
   ]
  },
  {
   "cell_type": "code",
   "execution_count": 29,
   "metadata": {},
   "outputs": [],
   "source": [
    "#修饰器\n",
    "def checkAuth(func):\n",
    "    def wrpper(*a,**b):\n",
    "        if global_session['auth'] >= auth['admin']:\n",
    "            print(\"有权限执行\")\n",
    "            return func(*a ,**b) \n",
    "        else:\n",
    "            print(\"你没有权限\")\n",
    "            return False\n",
    "    return wrpper\n",
    "#认证admin\n",
    "def f1():\n",
    "    print(\"不需要权限就可以运行的程序\")\n",
    "\n",
    "    \n",
    "@checkAuth\n",
    "def f2():\n",
    "    print(\"需要管理员权限才能运行的程序\")"
   ]
  },
  {
   "cell_type": "code",
   "execution_count": 30,
   "metadata": {},
   "outputs": [
    {
     "name": "stdout",
     "output_type": "stream",
     "text": [
      "不需要权限就可以运行的程序\n",
      "有权限执行\n",
      "需要管理员权限才能运行的程序\n"
     ]
    }
   ],
   "source": [
    "f1()\n",
    "f2()"
   ]
  },
  {
   "cell_type": "markdown",
   "metadata": {},
   "source": [
    "标准函数定义。lambda。修饰器"
   ]
  },
  {
   "cell_type": "code",
   "execution_count": 51,
   "metadata": {},
   "outputs": [],
   "source": [
    "def before(func):\n",
    "    def wrpper(*a,**b):\n",
    "        print('*'*10)\n",
    "        print('*'*10)\n",
    "        result=func(*a,**b)\n",
    "        print('='*10)\n",
    "        print('='*10)\n",
    "        return result\n",
    "    return wrpper\n",
    "\n",
    "\n",
    "@before\n",
    "def f1():\n",
    "    print(\"hello\")"
   ]
  },
  {
   "cell_type": "code",
   "execution_count": 52,
   "metadata": {},
   "outputs": [
    {
     "name": "stdout",
     "output_type": "stream",
     "text": [
      "**********\n",
      "**********\n",
      "hello\n",
      "==========\n",
      "==========\n"
     ]
    }
   ],
   "source": [
    "f1()\n"
   ]
  }
 ],
 "metadata": {
  "kernelspec": {
   "display_name": "base",
   "language": "python",
   "name": "python3"
  },
  "language_info": {
   "codemirror_mode": {
    "name": "ipython",
    "version": 3
   },
   "file_extension": ".py",
   "mimetype": "text/x-python",
   "name": "python",
   "nbconvert_exporter": "python",
   "pygments_lexer": "ipython3",
   "version": "3.9.7"
  }
 },
 "nbformat": 4,
 "nbformat_minor": 2
}
