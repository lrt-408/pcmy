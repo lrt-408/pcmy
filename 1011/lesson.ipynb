{
 "cells": [
  {
   "cell_type": "code",
   "execution_count": 1,
   "metadata": {},
   "outputs": [
    {
     "name": "stdout",
     "output_type": "stream",
     "text": [
      "['a', 'b', 'c', 'f', 'e', 'f', 'g', '11', '22', '33', '44']\n"
     ]
    }
   ],
   "source": [
    "a = \"a,b,c,f,e,f,g,11,22,33,44\"\n",
    "\n",
    "print(a.split(\",\"))"
   ]
  },
  {
   "cell_type": "markdown",
   "metadata": {},
   "source": [
    "帮我提交请求"
   ]
  },
  {
   "cell_type": "code",
   "execution_count": 5,
   "metadata": {},
   "outputs": [
    {
     "ename": "SyntaxError",
     "evalue": "invalid syntax (Temp/ipykernel_9468/1022074175.py, line 4)",
     "output_type": "error",
     "traceback": [
      "\u001b[1;36m  File \u001b[1;32m\"C:\\Users\\lrt\\AppData\\Local\\Temp/ipykernel_9468/1022074175.py\"\u001b[1;36m, line \u001b[1;32m4\u001b[0m\n\u001b[1;33m    'User-Agent' :Mozilla/5.0 (Windows NT 10.0; Win64; x64)\u001b[0m\n\u001b[1;37m                                       ^\u001b[0m\n\u001b[1;31mSyntaxError\u001b[0m\u001b[1;31m:\u001b[0m invalid syntax\n"
     ]
    }
   ],
   "source": [
    "import requests\n",
    "\n",
    "header={\n",
    "    'User-Agent' :Mozilla/5.0 (Windows NT 10.0; Win64; x64) \n",
    "    AppleWebKit/537.36 (KHTML, like Gecko) \n",
    "    Chrome/113.0.0.0 Safari/537.36 Edg/113.0.1774.57\n",
    "}\n",
    "url = \"http://ybu.edu.cn\"\n",
    "\n",
    "response=requests.get(url,headers=header)\n",
    "print(response.status_code)"
   ]
  }
 ],
 "metadata": {
  "kernelspec": {
   "display_name": "base",
   "language": "python",
   "name": "python3"
  },
  "language_info": {
   "codemirror_mode": {
    "name": "ipython",
    "version": 3
   },
   "file_extension": ".py",
   "mimetype": "text/x-python",
   "name": "python",
   "nbconvert_exporter": "python",
   "pygments_lexer": "ipython3",
   "version": "3.9.7"
  }
 },
 "nbformat": 4,
 "nbformat_minor": 2
}
