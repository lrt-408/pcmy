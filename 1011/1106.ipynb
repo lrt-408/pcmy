{
 "cells": [
  {
   "cell_type": "markdown",
   "metadata": {},
   "source": [
    "文件管理"
   ]
  },
  {
   "cell_type": "code",
   "execution_count": 27,
   "metadata": {},
   "outputs": [],
   "source": [
    "f_1=open(\"log.txt\",\"w\",encoding=\"utf-8\")\n",
    "for i in range(10):\n",
    "    f_1.write(f\"Hello Python Line {i+1}\\n\")\n",
    "#print(f_1.readable())\n",
    "f_1.close()"
   ]
  },
  {
   "cell_type": "markdown",
   "metadata": {},
   "source": [
    "对文件内容操作完成后，一定要关闭文件f_1.close()\n",
    "\"w\"读操作\"r\"写操作"
   ]
  },
  {
   "cell_type": "code",
   "execution_count": 33,
   "metadata": {},
   "outputs": [
    {
     "name": "stdout",
     "output_type": "stream",
     "text": [
      "Hello Python Line 1\n",
      "Hello Python Line 2\n",
      "Hello Python Line 3\n",
      "Hello Python Line 4\n",
      "Hello Python Line 5\n",
      "Hello Python Line 6\n",
      "Hello Python Line 7\n",
      "Hello Python Line 8\n",
      "Hello Python Line 9\n",
      "Hello Python Line 10\n",
      "True\n",
      "<class 'list'> ['Hello Python Line 1', 'Hello Python Line 2', 'Hello Python Line 3', 'Hello Python Line 4', 'Hello Python Line 5', 'Hello Python Line 6', 'Hello Python Line 7', 'Hello Python Line 8', 'Hello Python Line 9', 'Hello Python Line 10']\n"
     ]
    }
   ],
   "source": [
    "with open(\"log.txt\",\"r\",encoding=\"utf-8\") as f_2,open(\"log.txt\",\"r\",encoding=\"utf-8\") as f_3:\n",
    "    l=f_2.readlines()#readlines-读取行\n",
    "    l=[line.strip() for line in l]#将前后的空白字符去掉=整理数据\n",
    "    for line in l:\n",
    "        print(line)\n",
    "    print(f_2.readable())\n",
    "    print(type(l),l)#数据变成list形式"
   ]
  },
  {
   "cell_type": "code",
   "execution_count": 38,
   "metadata": {},
   "outputs": [
    {
     "name": "stdout",
     "output_type": "stream",
     "text": [
      "Hello Python Line 1\n",
      "\n",
      "Hello Python Line 2\n",
      "\n",
      "['Hello Python Line 3\\n', 'Hello Python Line 4\\n', 'Hello Python Line 5\\n', 'Hello Python Line 6\\n', 'Hello Python Line 7\\n', 'Hello Python Line 8\\n', 'Hello Python Line 9\\n', 'Hello Python Line 10\\n']\n"
     ]
    }
   ],
   "source": [
    "with open(\"log.txt\",\"r\",encoding=\"utf-8\") as f_4:\n",
    "    print(f_4.readline())#单行读取\n",
    "    print(f_4.readline())\n",
    "    print(f_4.readlines())#形成列表"
   ]
  }
 ],
 "metadata": {
  "kernelspec": {
   "display_name": "base",
   "language": "python",
   "name": "python3"
  },
  "language_info": {
   "codemirror_mode": {
    "name": "ipython",
    "version": 3
   },
   "file_extension": ".py",
   "mimetype": "text/x-python",
   "name": "python",
   "nbconvert_exporter": "python",
   "pygments_lexer": "ipython3",
   "version": "3.9.7"
  }
 },
 "nbformat": 4,
 "nbformat_minor": 2
}
