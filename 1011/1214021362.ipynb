{
 "cells": [
  {
   "cell_type": "code",
   "execution_count": 34,
   "metadata": {},
   "outputs": [
    {
     "name": "stdout",
     "output_type": "stream",
     "text": [
      "['关于推动内蒙古高质量发展奋力书写中国式现代化新篇章的意见', '客户端下载', '文章中提及']\n"
     ]
    }
   ],
   "source": [
    "import re\n",
    "text_file = open(\"news_title.txt\", \"r\", encoding=\"utf-8\")\n",
    "text = text_file.read()\n",
    "pat = re.compile(r'<h[0-6]>.*?([\\u4e00-\\u9fa5a-zA-Z0-9,.，。、“”\"\"]+).?</h[0-6]>')\n",
    "print(pat.findall(text))\n"
   ]
  }
 ],
 "metadata": {
  "kernelspec": {
   "display_name": "base",
   "language": "python",
   "name": "python3"
  },
  "language_info": {
   "codemirror_mode": {
    "name": "ipython",
    "version": 3
   },
   "file_extension": ".py",
   "mimetype": "text/x-python",
   "name": "python",
   "nbconvert_exporter": "python",
   "pygments_lexer": "ipython3",
   "version": "3.9.7"
  }
 },
 "nbformat": 4,
 "nbformat_minor": 2
}
