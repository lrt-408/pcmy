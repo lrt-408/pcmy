{
 "cells": [
  {
   "cell_type": "code",
   "execution_count": null,
   "metadata": {},
   "outputs": [],
   "source": [
    "import os\n",
    "\n",
    "\n",
    "print(os.listdir(\"shz\"))"
   ]
  },
  {
   "cell_type": "code",
   "execution_count": null,
   "metadata": {},
   "outputs": [],
   "source": [
    "os.getcwd()"
   ]
  },
  {
   "cell_type": "code",
   "execution_count": 24,
   "metadata": {},
   "outputs": [],
   "source": [
    "import shutil\n",
    "path = \"shz\"\n",
    "file_count = 5\n",
    "for _, dirs, files in os.walk(\"shz\"):\n",
    "    for i in range(len(files)):\n",
    "        file_name = f\"水浒传第{i + 1}回.txt\"\n",
    "        # with open(f\"{path}/水浒传第{i + 1}回.txt\", \"r\", encoding=\"utf-8\") as file:\n",
    "            # print(file.read())\n",
    "\n",
    "        if i % file_count == 0:\n",
    "            dir_name = f\"{i+1}_{i+file_count}\"\n",
    "            if not os.path.isdir(f\"{path}/{dir_name}\"):\n",
    "                os.mkdir(f\"{path}/{dir_name}\")\n",
    "\n",
    "        if os.path.isfile(f\"./{path}/{file_name}\"):\n",
    "            shutil.move(f\"./{path}/{file_name}\", f\"./{path}/{dir_name}/{file_name}\")\n",
    "        else:\n",
    "            print(f\"文件{file_name}已经被移动\")\n",
    "        \n"
   ]
  },
  {
   "cell_type": "code",
   "execution_count": 26,
   "metadata": {},
   "outputs": [],
   "source": [
    "for _, dirs, _ in os.walk(path):\n",
    "    for dir_name in dirs:\n",
    "        # print(os.listdir(f\"{path}/{dir_name}\"))\n",
    "        files = os.listdir(f\"{path}/{dir_name}\")\n",
    "        if len(files) > 0:\n",
    "            for file in files:\n",
    "                shutil.move(f\"{path}/{dir_name}/{file}\", f\"{path}/{file}\")\n",
    "        else:\n",
    "            os.rmdir(f\"{path}/{dir_name}\")"
   ]
  }
 ],
 "metadata": {
  "kernelspec": {
   "display_name": "torch",
   "language": "python",
   "name": "python3"
  },
  "language_info": {
   "codemirror_mode": {
    "name": "ipython",
    "version": 3
   },
   "file_extension": ".py",
   "mimetype": "text/x-python",
   "name": "python",
   "nbconvert_exporter": "python",
   "pygments_lexer": "ipython3",
   "version": "3.9.18"
  }
 },
 "nbformat": 4,
 "nbformat_minor": 2
}
