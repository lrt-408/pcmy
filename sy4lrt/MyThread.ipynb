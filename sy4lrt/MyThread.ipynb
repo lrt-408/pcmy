{
 "cells": [
  {
   "cell_type": "code",
   "execution_count": 21,
   "metadata": {},
   "outputs": [],
   "source": [
    "import os\n",
    "import threading\n",
    "import jieba\n",
    "import sys"
   ]
  },
  {
   "cell_type": "code",
   "execution_count": 22,
   "metadata": {},
   "outputs": [],
   "source": [
    "#新建一个MyThread类，继承threading.Thread   \n",
    "class MyThread(threading.Thread):\n",
    "    def __init__(self, filename, lock, progress):\n",
    "        super().__init__()\n",
    "        self.filename = filename\n",
    "        self.lock = lock\n",
    "        self.progress = progress\n",
    "\n",
    "    def run(self):\n",
    "        with open(self.filename, 'r', encoding='utf-8') as file:\n",
    "            text = file.read()\n",
    "            seg_list = jieba.cut(text)#使用jieba进行分词\n",
    "            #利用过滤器函数删除一些无关的词语\n",
    "            noun_set = set(filter(lambda x: x not in {\"红楼梦\", \"分章回\"}, seg_list))\n",
    "            output_str = f\"{self.filename}\\n{'，'.join(noun_set)}\\n\"\n",
    "            with open(\"cut_result.txt\", 'a', encoding='utf-8') as output_file:\n",
    "                output_file.write(output_str)\n",
    "\n",
    "            #写入文件时需要加锁进行操作，线程同步\n",
    "            with self.lock:\n",
    "                self.progress[0] += 1\n",
    "                update_progress(self.progress[0], self.progress[1])    \n",
    "    "
   ]
  },
  {
   "cell_type": "code",
   "execution_count": 23,
   "metadata": {},
   "outputs": [],
   "source": [
    "#监控进度，整体进度用进度条显示\n",
    "def update_progress(completed_files, total_files):\n",
    "    percentage = completed_files / total_files * 100\n",
    "    sys.stdout.write('\\r[{}] {:.2f}%'.format('#' * int(percentage / 2), percentage))\n",
    "    sys.stdout.flush()\n"
   ]
  },
  {
   "cell_type": "code",
   "execution_count": 24,
   "metadata": {},
   "outputs": [],
   "source": [
    "def main():\n",
    "    folder_path = \"红楼梦(分章回)\"\n",
    "    file_list = os.listdir(folder_path)\n",
    "    total_files = len(file_list)\n",
    "    \n",
    "    progress = [0, total_files]  #使用列表保存进度信息\n",
    "    lock = threading.Lock()\n",
    "    threads = []\n",
    "\n",
    "    for filename in file_list:\n",
    "        file_path = os.path.join(folder_path, filename)\n",
    "        thread = MyThread(file_path, lock, progress)\n",
    "        thread.start()\n",
    "        threads.append(thread)\n",
    "\n",
    "    for thread in threads:\n",
    "        thread.join()\n",
    "\n",
    "    #显示最终的进度信息\n",
    "    update_progress(progress[1], progress[1])  \n",
    "    sys.stdout.write('\\n')\n",
    "    sys.stdout.flush()"
   ]
  },
  {
   "cell_type": "code",
   "execution_count": 25,
   "metadata": {},
   "outputs": [
    {
     "name": "stdout",
     "output_type": "stream",
     "text": [
      "[##################################################] 100.00%\n"
     ]
    }
   ],
   "source": [
    "if __name__ == \"__main__\":\n",
    "    main()"
   ]
  }
 ],
 "metadata": {
  "kernelspec": {
   "display_name": "base",
   "language": "python",
   "name": "python3"
  },
  "language_info": {
   "name": "python",
   "version": "3.9.7"
  }
 },
 "nbformat": 4,
 "nbformat_minor": 2
}
